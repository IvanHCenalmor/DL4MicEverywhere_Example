{
 "cells": [
  {
   "cell_type": "markdown",
   "metadata": {},
   "source": [
    "# My Super Cool Notebook 😎 \n",
    "---"
   ]
  },
  {
   "cell_type": "markdown",
   "metadata": {},
   "source": [
    "## 1. Import all the dependencies\n",
    "---"
   ]
  },
  {
   "cell_type": "code",
   "execution_count": null,
   "metadata": {},
   "outputs": [],
   "source": [
    "#@markdown ## Load key dependencies\n",
    "import numpy as np\n",
    "import matplotlib as plt\n",
    "import imageio\n",
    "\n",
    "def normalize(img):\n",
    "    # Normalize input image to be between 0 and 1\n",
    "    return (img - np.min(img)) / (np.max(img) - np.min(img) + 1e-10)\n",
    "\n",
    "def threshold(img, threshold=0.5):\n",
    "    # Threshold input image\n",
    "    return img > threshold"
   ]
  },
  {
   "cell_type": "markdown",
   "metadata": {},
   "source": [
    "## 2. Initialise the Colab session\n",
    "\n",
    "---"
   ]
  },
  {
   "cell_type": "markdown",
   "metadata": {},
   "source": [
    "### 2.1. Mount your Google Drive\n",
    "---"
   ]
  },
  {
   "cell_type": "code",
   "execution_count": null,
   "metadata": {},
   "outputs": [],
   "source": [
    "#@markdown ##Run this cell to connect your Google Drive to Colab\n",
    "\n",
    "#@markdown * Click on the URL. \n",
    "\n",
    "#@markdown * Follow the instructions\n",
    "\n",
    "#@markdown * Click on \"Files\" site on the right. Refresh the site. Your Google Drive folder should now be available here as \"drive\". \n",
    "\n",
    "#mounts user's Google Drive to Google Colab.\n",
    "\n",
    "from google.colab import drive\n",
    "drive.mount('/content/gdrive')"
   ]
  },
  {
   "cell_type": "markdown",
   "metadata": {},
   "source": [
    "## 3. Select image and run the code"
   ]
  },
  {
   "cell_type": "code",
   "execution_count": null,
   "metadata": {},
   "outputs": [],
   "source": [
    "#@markdown ###Path to the image:\n",
    "Image_path = \"\" #@param {type:\"string\"}\n",
    "\n",
    "#@markdown ###Threshold:\n",
    "Threshold = 0.5 #@param {type:\"slider\", min:0.0, max:1.0, step:0.1}\n",
    "\n",
    "# Read the input image\n",
    "im = imageio.imread(Image_path)\n",
    "\n",
    "# Normalize the image\n",
    "norm_im = normalize(im)\n",
    "\n",
    "# Threshold the image\n",
    "thresholded_img = threshold(norm_im, threshold=Threshold)\n",
    "\n",
    "fig, ax = plt.subplots(1,2,figsize=(10, 10))\n",
    "\n",
    "ax[0].imshow(im)\n",
    "ax[0].set_axis_off()\n",
    "ax[0].set_title('Original Image')\n",
    "\n",
    "ax[1].imshow(thresholded_img)\n",
    "ax[1].set_axis_off()\n",
    "ax[1].set_title('Thresholded Image')\n",
    "\n",
    "plt.show()"
   ]
  }
 ],
 "metadata": {
  "language_info": {
   "name": "python"
  }
 },
 "nbformat": 4,
 "nbformat_minor": 2
}
