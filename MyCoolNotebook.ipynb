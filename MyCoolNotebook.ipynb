{
  "cells": [
    {
      "cell_type": "markdown",
      "metadata": {
        "id": "PbFQpPLNf9Ti"
      },
      "source": [
        "# My Super Cool Notebook 😎\n",
        "---"
      ]
    },
    {
      "cell_type": "markdown",
      "metadata": {
        "id": "mWcJIHkyf9Ti"
      },
      "source": [
        "## 1. Import all the dependencies\n",
        "---"
      ]
    },
    {
      "cell_type": "code",
      "execution_count": null,
      "metadata": {
        "cellView": "form",
        "id": "dTT0Z2Q6f9Tj"
      },
      "outputs": [],
      "source": [
        "#@markdown ## Load key dependencies\n",
        "import numpy as np\n",
        "from matplotlib import pyplot as plt\n",
        "import imageio.v2 as imageio\n",
        "import os\n",
        "\n",
        "base_path = os.getcwd()\n",
        "\n",
        "def check_base_path(base_path, path_to_data):\n",
        "  if base_path not in path_to_data:\n",
        "    if path_to_data[0] == '/':\n",
        "      path_to_data = path_to_data[1:]\n",
        "    path_to_data = os.path.join(base_path, path_to_data)\n",
        "  return path_to_data\n",
        "\n",
        "def normalize(img):\n",
        "    # Normalize input image to be between 0 and 1\n",
        "    return (img - np.min(img)) / (np.max(img) - np.min(img) + 1e-10)\n",
        "\n",
        "def threshold(img, threshold=0.5):\n",
        "    # Threshold input image\n",
        "    return (img > threshold) * 1 # To be numeric\n",
        "\n",
        "def filter(img, mask):\n",
        "    # Apply mask to input image\n",
        "    return img * mask\n",
        "\n",
        "print(\"Dependencies correctly loaded!\")"
      ]
    },
    {
      "cell_type": "markdown",
      "metadata": {
        "id": "fnFQL4vTf9Tj"
      },
      "source": [
        "## 2. Initialise the Colab session\n",
        "\n",
        "---"
      ]
    },
    {
      "cell_type": "markdown",
      "metadata": {
        "id": "rWBkj48mf9Tk"
      },
      "source": [
        "### 2.1. Mount your Google Drive\n",
        "---"
      ]
    },
    {
      "cell_type": "code",
      "execution_count": null,
      "metadata": {
        "cellView": "form",
        "id": "-HrbZWkof9Tk"
      },
      "outputs": [],
      "source": [
        "#@markdown ##Run this cell to connect your Google Drive to Colab\n",
        "\n",
        "#@markdown * Click on the URL.\n",
        "\n",
        "#@markdown * Follow the instructions\n",
        "\n",
        "#@markdown * Click on \"Files\" site on the right. Refresh the site. Your Google Drive folder should now be available here as \"drive\".\n",
        "\n",
        "#mounts user's Google Drive to Google Colab.\n",
        "\n",
        "from google.colab import drive\n",
        "drive.mount('/content/gdrive')"
      ]
    },
    {
      "cell_type": "markdown",
      "metadata": {
        "id": "z3brKf15f9Tl"
      },
      "source": [
        "## 3. Select image and run the code"
      ]
    },
    {
      "cell_type": "code",
      "execution_count": null,
      "metadata": {
        "cellView": "form",
        "id": "VEX3GVyxf9Tl"
      },
      "outputs": [],
      "source": [
        "#@markdown ###Path to the image:\n",
        "Image_path = \"\" #@param {type:\"string\"}\n",
        "# Check that the base_path is on the path and otherwise add it\n",
        "Image_path = check_base_path(base_path, Image_path)\n",
        "\n",
        "#@markdown ###Threshold:\n",
        "Threshold = 0.2 #@param {type:\"slider\", min:0.0, max:1.0, step:0.01}\n",
        "\n",
        "#@markdown ###Saving path:\n",
        "#@markdown Folder to store the mask and segmented images.\n",
        "Saving_path = \"\" #@param {type:\"string\"}\n",
        "# Check that the base_path is on the path and otherwise add it\n",
        "Saving_path = check_base_path(base_path, Saving_path)\n",
        "\n",
        "# Create the folder if it does nto exist\n",
        "os.makedirs(Saving_path, exist_ok=True)\n",
        "\n",
        "#####\n",
        "\n",
        "# Read the input image\n",
        "im = imageio.imread(Image_path)\n",
        "\n",
        "# Normalize the image\n",
        "norm_im = normalize(im)\n",
        "\n",
        "# Threshold the image\n",
        "thresholded_img = threshold(norm_im, threshold=Threshold)\n",
        "\n",
        "# Segmented image\n",
        "segmented_img = filter(im, thresholded_img)\n",
        "\n",
        "# Save the results\n",
        "imageio.imwrite(os.path.join(Saving_path, 'mask.tif'), thresholded_img)\n",
        "imageio.imwrite(os.path.join(Saving_path, 'segmented.tif'), segmented_img)\n",
        "print(\"Images correctly saved!\\n\")\n",
        "\n",
        "#####\n",
        "\n",
        "# Plot the images\n",
        "fig, ax = plt.subplots(1,3,figsize=(15, 10))\n",
        "\n",
        "ax[0].imshow(im, 'inferno')\n",
        "ax[0].set_axis_off()\n",
        "ax[0].set_title('Original Image')\n",
        "\n",
        "ax[1].imshow(thresholded_img,'seismic')\n",
        "ax[1].set_axis_off()\n",
        "ax[1].set_title('Thresholded Image')\n",
        "\n",
        "ax[2].imshow(segmented_img, 'inferno')\n",
        "ax[2].set_axis_off()\n",
        "ax[2].set_title('Segmented Image')\n",
        "\n",
        "plt.show();"
      ]
    }
  ],
  "metadata": {
    "language_info": {
      "name": "python"
    },
    "colab": {
      "provenance": []
    },
    "kernelspec": {
      "name": "python3",
      "display_name": "Python 3"
    }
  },
  "nbformat": 4,
  "nbformat_minor": 0
}